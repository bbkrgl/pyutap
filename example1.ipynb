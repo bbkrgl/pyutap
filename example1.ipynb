{
 "cells": [
  {
   "cell_type": "markdown",
   "metadata": {},
   "source": [
    "This file includes a simple use case of the module.\n",
    "\n",
    "A timed automata system is read from an xml file, an edge constraint is changed and the system is written back."
   ]
  },
  {
   "cell_type": "code",
   "execution_count": null,
   "metadata": {},
   "outputs": [],
   "source": [
    "from pyutap import *\n",
    "\n",
    "system = UTAP.TimedAutomataSystem() # Create a system\n",
    "parseXMLFile(\"examples/literature/CAS.xml\", system, True) # Read system from file, 0 indicates success."
   ]
  },
  {
   "cell_type": "code",
   "execution_count": null,
   "metadata": {},
   "outputs": [],
   "source": [
    "templates = system.getTemplates() # Getting templates of the system\n",
    "\n",
    "states_with_invariants = []\n",
    "\n",
    "for template in templates:\n",
    "        for state in template.states:\n",
    "                if state.invariant.getSize() > 0: # Access states which have an invariant\n",
    "                        states_with_invariants.append(state)\n",
    "                        print(\"State uid:\", state.uid) # Get state name\n",
    "                        print(\"Invariant:\", state.invariant) # Get state invariant\n",
    "                        # print(state.toString()) # Print state in a readable form"
   ]
  },
  {
   "cell_type": "code",
   "execution_count": null,
   "metadata": {},
   "outputs": [],
   "source": [
    "# Getting the edge guards of the system\n",
    "Constants = UTAP.Constants\n",
    "\n",
    "edge_guards_with_clock = []\n",
    "for template in templates:\n",
    "    for edge in template.edges:\n",
    "        if (edge.guard.usesClock()): # Add guards that uses clocks to a list\n",
    "            print(\"Source:\", edge.src.uid, \"; Dest:\", edge.dst.uid)\n",
    "            if edge.sync.getSize() > 0:\n",
    "                print(\"Edge sync:\", edge.sync)\n",
    "\n",
    "            if edge.assign.getSize() > 0:\n",
    "                print(\"Edge assign:\", edge.assign)\n",
    "                \n",
    "            edge_guards_with_clock.append(edge.guard)\n",
    "\n",
    "print(edge_guards_with_clock[0])\n",
    "if edge_guards_with_clock[0].getKind() == Constants.AND:\n",
    "    print(\"Guard has kind AND\")\n",
    "\n",
    "# Accessing subexpressions of expressions\n",
    "print(\"Guard has\", edge_guards_with_clock[0].getSize(), \"subexpressions\")\n",
    "for i in range(edge_guards_with_clock[0].getSize()):\n",
    "    print(\"Subexpression\", i, edge_guards_with_clock[0][i])"
   ]
  },
  {
   "cell_type": "code",
   "execution_count": null,
   "metadata": {},
   "outputs": [],
   "source": [
    "# Changing expression values\n",
    "position = edge_guards_with_clock[0][0][1].getPosition() # Position of the expression\n",
    "t = edge_guards_with_clock[0][0][1] # Sub-subexpression of the guard expression\n",
    "if t.getKind() == Constants.CONSTANT:\n",
    "    print(\"Const. old t=\" + str(t.getValue()))\n",
    "    #print(\"Double old t=\" + str(t.getDoubleValue()))\n",
    "\n",
    "exp = t.createConstant(100, position)\n",
    "#exp = t.createDouble(100, position) # Creating double type expression\n",
    "edge_guards_with_clock[0][0][1] = exp\n",
    "if t.getKind() == Constants.CONSTANT:\n",
    "    print(\"Const. new t=\" + str(t.getValue()))\n",
    "    #print(\"Double new t=\" + str(t.getDoubleValue()))"
   ]
  },
  {
   "cell_type": "code",
   "execution_count": null,
   "metadata": {},
   "outputs": [],
   "source": [
    "writeXMLFile(\"example.xml\", system) # Write the system back to a file, 0 indicates success."
   ]
  },
  {
   "cell_type": "markdown",
   "metadata": {},
   "source": [
    "Cells above demonstrated the basic use of the wrapper, using the functions and classes generated directly from UTAP library. For further usage please refer to its documentation. From now on, usage of some helper classes and functions that this library has for itself will be shown."
   ]
  },
  {
   "cell_type": "code",
   "execution_count": 1,
   "metadata": {},
   "outputs": [
    {
     "name": "stdout",
     "output_type": "stream",
     "text": [
      "e <= 300\n"
     ]
    }
   ],
   "source": [
    "# Changing expression values with helper classess and functions\n",
    "from pyutap import *\n",
    "from pyutap.nta import *\n",
    "\n",
    "nta = NTAHelper(\"examples/literature/CAS.xml\", \"nta\") # Get the system with helper class\n",
    "\n",
    "edge_guards_with_clock = []\n",
    "for template in nta.templates:\n",
    "\tfor edge in template.edges:\n",
    "\t\tif edge.guard.usesClock():\n",
    "\t\t\tedge_guards_with_clock.append(edge.guard)\n",
    "\n",
    "print(edge_guards_with_clock[0][0].toString())"
   ]
  },
  {
   "cell_type": "code",
   "execution_count": 2,
   "metadata": {},
   "outputs": [
    {
     "name": "stdout",
     "output_type": "stream",
     "text": [
      "e <= 100\n"
     ]
    }
   ],
   "source": [
    "change_expression_value(edge_guards_with_clock[0][0], 100)\n",
    "print(edge_guards_with_clock[0][0].toString())"
   ]
  },
  {
   "cell_type": "code",
   "execution_count": 3,
   "metadata": {},
   "outputs": [
    {
     "name": "stdout",
     "output_type": "stream",
     "text": [
      "(location) id2 (location) id1\n",
      "(location) id3 (location) id7\n",
      "(location) l7 (location) l6\n",
      "(location) id9 (location) id8\n",
      "(location) id11 (location) id10\n",
      "{b'f'}\n",
      "False\n"
     ]
    }
   ],
   "source": [
    "from pyutap.path_analysis import *\n",
    "\n",
    "path = []\n",
    "for template in nta.templates:\n",
    "        print(template.edges[0].src.uid, template.edges[0].dst.uid)\n",
    "        path.append(template.edges[0])\n",
    "\n",
    "print(find_used_clocks(path))\n",
    "print(path_exists(path))"
   ]
  },
  {
   "cell_type": "code",
   "execution_count": 4,
   "metadata": {},
   "outputs": [],
   "source": [
    "nta.writeToXML()"
   ]
  }
 ],
 "metadata": {
  "interpreter": {
   "hash": "e7370f93d1d0cde622a1f8e1c04877d8463912d04d973331ad4851f04de6915a"
  },
  "kernelspec": {
   "display_name": "Python 3.10.4 64-bit",
   "language": "python",
   "name": "python3"
  },
  "language_info": {
   "codemirror_mode": {
    "name": "ipython",
    "version": 3
   },
   "file_extension": ".py",
   "mimetype": "text/x-python",
   "name": "python",
   "nbconvert_exporter": "python",
   "pygments_lexer": "ipython3",
   "version": "3.10.4"
  },
  "orig_nbformat": 4
 },
 "nbformat": 4,
 "nbformat_minor": 2
}
