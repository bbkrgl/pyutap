{
 "cells": [
  {
   "cell_type": "markdown",
   "metadata": {},
   "source": [
    "This file includes a simple use case of the module.\n",
    "\n",
    "A timed automata system is read from an xml file, an edge constraint is changed and the system is written back."
   ]
  },
  {
   "cell_type": "code",
   "execution_count": null,
   "metadata": {},
   "outputs": [],
   "source": [
    "from pyutap import *\n",
    "\n",
    "system = UTAP.TimedAutomataSystem() # Create a system\n",
    "parseXMLFile(\"examples/literature/CAS.xml\", system, True) # Read system from file, 0 indicates success."
   ]
  },
  {
   "cell_type": "code",
   "execution_count": null,
   "metadata": {},
   "outputs": [],
   "source": [
    "# Getting the edge guards of the system\n",
    "Constants = UTAP.Constants\n",
    "\n",
    "edge_guards = []\n",
    "edge_guards_with_clock = []\n",
    "templates = system.getTemplates() # Getting templates of the system\n",
    "for template in templates:\n",
    "    for edge in template.edges:\n",
    "        edge_guards.append(edge.guard)\n",
    "\n",
    "        if (edge.guard.usesClock()): # If some of them uses clocks add them to a seperate list\n",
    "            edge_guards_with_clock.append(edge.guard)\n",
    "\n",
    "print(edge_guards_with_clock[0].toString(False))\n",
    "if edge_guards_with_clock[0].getKind() == Constants.AND:\n",
    "    print(\"Guard has kind AND\")\n",
    "\n",
    "# Accessing subexpressions of guard expressions\n",
    "print(\"Guard has\", edge_guards_with_clock[0].getSize(), \"subexpressions\")\n",
    "for i in range(edge_guards_with_clock[0].getSize()):\n",
    "    print(edge_guards_with_clock[0][i].toString(False))"
   ]
  },
  {
   "cell_type": "code",
   "execution_count": null,
   "metadata": {},
   "outputs": [],
   "source": [
    "# Changing expression values\n",
    "position = edge_guards_with_clock[0][0][1].getPosition() # Position of the expression\n",
    "t = edge_guards_with_clock[0][0][1] # Sub-subexpression of the guard expression\n",
    "if t.getKind() == Constants.CONSTANT:\n",
    "    print(\"Const. old t=\" + str(t.getValue()))\n",
    "    #print(\"Double old t=\" + str(t.getDoubleValue()))\n",
    "\n",
    "exp = t.createConstant(100, position)\n",
    "#exp = t.createDouble(100, position) # Creating double type expression\n",
    "edge_guards_with_clock[0][0][1] = exp\n",
    "if t.getKind() == Constants.CONSTANT:\n",
    "    print(\"Const. new t=\" + str(t.getValue()))\n",
    "    #print(\"Double new t=\" + str(t.getDoubleValue()))"
   ]
  },
  {
   "cell_type": "code",
   "execution_count": null,
   "metadata": {},
   "outputs": [],
   "source": [
    "writeXMLFile(\"example.xml\", system) # Write the system back to a file, 0 indicates success."
   ]
  }
 ],
 "metadata": {
  "interpreter": {
   "hash": "e7370f93d1d0cde622a1f8e1c04877d8463912d04d973331ad4851f04de6915a"
  },
  "kernelspec": {
   "display_name": "Python 3.10.4 64-bit",
   "language": "python",
   "name": "python3"
  },
  "language_info": {
   "codemirror_mode": {
    "name": "ipython",
    "version": 3
   },
   "file_extension": ".py",
   "mimetype": "text/x-python",
   "name": "python",
   "nbconvert_exporter": "python",
   "pygments_lexer": "ipython3",
   "version": "3.10.4"
  },
  "orig_nbformat": 4
 },
 "nbformat": 4,
 "nbformat_minor": 2
}
