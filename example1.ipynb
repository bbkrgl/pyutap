{
 "cells": [
  {
   "cell_type": "markdown",
   "metadata": {},
   "source": [
    "This file includes a simple use case of the module.\n",
    "\n",
    "A timed automata system is read from an xml file, an edge constraint is changed and the system is written back."
   ]
  },
  {
   "cell_type": "code",
   "execution_count": 1,
   "metadata": {},
   "outputs": [
    {
     "data": {
      "text/plain": [
       "0"
      ]
     },
     "execution_count": 1,
     "metadata": {},
     "output_type": "execute_result"
    }
   ],
   "source": [
    "from pyutap import *\n",
    "\n",
    "system = UTAP.TimedAutomataSystem() # Create a system\n",
    "parseXMLFile(\"examples/literature/CAS.xml\", system, True) # Read system from file, 0 indicates success."
   ]
  },
  {
   "cell_type": "code",
   "execution_count": 6,
   "metadata": {},
   "outputs": [
    {
     "name": "stdout",
     "output_type": "stream",
     "text": [
      "State uid: (location) l3\n",
      "Invariant: 1 && c <= 20\n",
      "State uid: (location) l4\n",
      "Invariant: 1 && g <= 0\n",
      "State uid: (location) l5\n",
      "Invariant: 1 && d <= 0\n",
      "State uid: (location) l7\n",
      "Invariant: 1 && f <= 0\n",
      "State uid: (location) l8\n",
      "Invariant: 1 && e <= 300\n",
      "State uid: (location) l10\n",
      "Invariant: 1 && e <= 0\n",
      "State uid: (location) l11\n",
      "Invariant: 1 && e <= 0\n",
      "State uid: (location) l12\n",
      "Invariant: 1 && e <= 0\n",
      "State uid: (location) l13\n",
      "Invariant: 1 && e <= 30\n",
      "State uid: (location) l14\n",
      "Invariant: 1 && g <= 0\n",
      "State uid: (location) l15\n",
      "Invariant: 1 && e <= 300\n"
     ]
    }
   ],
   "source": [
    "templates = system.getTemplates() # Getting templates of the system\n",
    "\n",
    "states_with_invariants = []\n",
    "\n",
    "for template in templates:\n",
    "        for state in template.states:\n",
    "                if state.invariant.getSize() > 0: # Access states which have an invariant\n",
    "                        states_with_invariants.append(state)\n",
    "                        print(\"State uid:\", state.uid) # Get state name\n",
    "                        print(\"Invariant:\", state.invariant) # Get state invariant\n",
    "                        # print(state.toString()) # Print state in a readable form"
   ]
  },
  {
   "cell_type": "code",
   "execution_count": 5,
   "metadata": {},
   "outputs": [
    {
     "name": "stdout",
     "output_type": "stream",
     "text": [
      "Source: (location) id2 ; Dest: (location) id1\n",
      "Edge sync: soundOff?\n",
      "Source: (location) id1 ; Dest: (location) id2\n",
      "Edge sync: soundOn?\n",
      "Source: (location) id3 ; Dest: (location) id7\n",
      "Edge sync: open!\n",
      "Source: (location) id3 ; Dest: (location) id6\n",
      "Edge sync: close!\n",
      "Source: (location) id3 ; Dest: (location) id5\n",
      "Edge sync: unlock!\n",
      "Source: (location) id7 ; Dest: (location) id3\n",
      "Source: (location) id6 ; Dest: (location) id3\n",
      "Source: (location) id5 ; Dest: (location) id3\n",
      "Source: (location) id4 ; Dest: (location) id3\n",
      "Source: (location) id3 ; Dest: (location) id4\n",
      "Edge sync: lock!\n",
      "Source: (location) l7 ; Dest: (location) l6\n",
      "Edge sync: armedOn!\n",
      "Source: (location) l9 ; Dest: (location) l7\n",
      "Edge sync: close?\n",
      "Edge assign: f = 0\n",
      "Source: (location) l9 ; Dest: (location) l0\n",
      "Edge sync: unlock?\n",
      "Source: (location) l8 ; Dest: (location) l9\n",
      "Edge sync: flashOff!\n",
      "Source: (location) l15 ; Dest: (location) l8\n",
      "Edge sync: soundOff!\n",
      "Source: (location) l5 ; Dest: (location) l1\n",
      "Edge sync: armedOff!\n",
      "Source: (location) l6 ; Dest: (location) l5\n",
      "Edge sync: unlock?\n",
      "Edge assign: d = 0\n",
      "Source: (location) l4 ; Dest: (location) l0\n",
      "Edge sync: flashOff!\n",
      "Source: (location) l14 ; Dest: (location) l4\n",
      "Edge sync: soundOff!\n",
      "Source: (location) l15 ; Dest: (location) l14\n",
      "Edge sync: unlock?\n",
      "Edge assign: g = 0\n",
      "Source: (location) l13 ; Dest: (location) l14\n",
      "Edge sync: unlock?\n",
      "Edge assign: g = 0\n",
      "Source: (location) l13 ; Dest: (location) l15\n",
      "Edge sync: soundOff!\n",
      "Source: (location) l12 ; Dest: (location) l13\n",
      "Edge sync: soundOn!\n",
      "Source: (location) l11 ; Dest: (location) l12\n",
      "Edge sync: flashOn!\n",
      "Source: (location) l10 ; Dest: (location) l11\n",
      "Edge sync: armedOff!\n",
      "Source: (location) l6 ; Dest: (location) l10\n",
      "Edge sync: open?\n",
      "Edge assign: e = 0\n",
      "Source: (location) l3 ; Dest: (location) l6\n",
      "Edge sync: armedOn!\n",
      "Source: (location) l3 ; Dest: (location) l1\n",
      "Edge sync: open?\n",
      "Source: (location) l1 ; Dest: (location) l3\n",
      "Edge sync: close?\n",
      "Edge assign: c = 0\n",
      "Source: (location) l3 ; Dest: (location) l2\n",
      "Edge sync: unlock?\n",
      "Source: (location) l2 ; Dest: (location) l3\n",
      "Edge sync: lock?\n",
      "Edge assign: c = 0\n",
      "Source: (location) l1 ; Dest: (location) l0\n",
      "Edge sync: unlock?\n",
      "Source: (location) l0 ; Dest: (location) l1\n",
      "Edge sync: lock?\n",
      "Source: (location) l2 ; Dest: (location) l0\n",
      "Edge sync: open?\n",
      "Source: (location) l0 ; Dest: (location) l2\n",
      "Edge sync: close?\n",
      "Source: (location) id9 ; Dest: (location) id8\n",
      "Edge sync: armedOff?\n",
      "Source: (location) id8 ; Dest: (location) id9\n",
      "Edge sync: armedOn?\n",
      "Source: (location) id11 ; Dest: (location) id10\n",
      "Edge sync: flashOff?\n",
      "Source: (location) id10 ; Dest: (location) id11\n",
      "Edge sync: flashOn?\n",
      "e <= 300 && e >= 300\n",
      "Guard has kind AND\n",
      "Guard has 2 subexpressions\n",
      "Subexpression 0 e <= 300\n",
      "Subexpression 1 e >= 300\n"
     ]
    }
   ],
   "source": [
    "# Getting the edge guards of the system\n",
    "Constants = UTAP.Constants\n",
    "\n",
    "edge_guards_with_clock = []\n",
    "for template in templates:\n",
    "    for edge in template.edges:\n",
    "        print(\"Source:\", edge.src.uid, \"; Dest:\", edge.dst.uid)\n",
    "        if edge.sync.getSize() > 0:\n",
    "            print(\"Edge sync:\", edge.sync)\n",
    "        if edge.assign.getSize() > 0:\n",
    "            print(\"Edge assign:\", edge.assign)\n",
    "\n",
    "        if (edge.guard.usesClock()): # Add guards that uses clocks to a list\n",
    "            edge_guards_with_clock.append(edge.guard)\n",
    "\n",
    "print(edge_guards_with_clock[0])\n",
    "if edge_guards_with_clock[0].getKind() == Constants.AND:\n",
    "    print(\"Guard has kind AND\")\n",
    "\n",
    "# Accessing subexpressions of expressions\n",
    "print(\"Guard has\", edge_guards_with_clock[0].getSize(), \"subexpressions\")\n",
    "for i in range(edge_guards_with_clock[0].getSize()):\n",
    "    print(\"Subexpression\", i, edge_guards_with_clock[0][i])"
   ]
  },
  {
   "cell_type": "code",
   "execution_count": 7,
   "metadata": {},
   "outputs": [
    {
     "name": "stdout",
     "output_type": "stream",
     "text": [
      "Const. old t=300\n",
      "Const. new t=100\n"
     ]
    }
   ],
   "source": [
    "# Changing expression values\n",
    "position = edge_guards_with_clock[0][0][1].getPosition() # Position of the expression\n",
    "t = edge_guards_with_clock[0][0][1] # Sub-subexpression of the guard expression\n",
    "if t.getKind() == Constants.CONSTANT:\n",
    "    print(\"Const. old t=\" + str(t.getValue()))\n",
    "    #print(\"Double old t=\" + str(t.getDoubleValue()))\n",
    "\n",
    "exp = t.createConstant(100, position)\n",
    "#exp = t.createDouble(100, position) # Creating double type expression\n",
    "edge_guards_with_clock[0][0][1] = exp\n",
    "if t.getKind() == Constants.CONSTANT:\n",
    "    print(\"Const. new t=\" + str(t.getValue()))\n",
    "    #print(\"Double new t=\" + str(t.getDoubleValue()))"
   ]
  },
  {
   "cell_type": "code",
   "execution_count": null,
   "metadata": {},
   "outputs": [],
   "source": [
    "writeXMLFile(\"example.xml\", system) # Write the system back to a file, 0 indicates success."
   ]
  }
 ],
 "metadata": {
  "interpreter": {
   "hash": "e7370f93d1d0cde622a1f8e1c04877d8463912d04d973331ad4851f04de6915a"
  },
  "kernelspec": {
   "display_name": "Python 3.10.4 64-bit",
   "language": "python",
   "name": "python3"
  },
  "language_info": {
   "codemirror_mode": {
    "name": "ipython",
    "version": 3
   },
   "file_extension": ".py",
   "mimetype": "text/x-python",
   "name": "python",
   "nbconvert_exporter": "python",
   "pygments_lexer": "ipython3",
   "version": "3.10.4"
  },
  "orig_nbformat": 4
 },
 "nbformat": 4,
 "nbformat_minor": 2
}
